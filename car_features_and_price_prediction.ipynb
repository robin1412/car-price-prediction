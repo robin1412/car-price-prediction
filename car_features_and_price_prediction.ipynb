{
  "nbformat": 4,
  "nbformat_minor": 0,
  "metadata": {
    "kernelspec": {
      "display_name": "Python 3",
      "language": "python",
      "name": "python3"
    },
    "language_info": {
      "codemirror_mode": {
        "name": "ipython",
        "version": 3
      },
      "file_extension": ".py",
      "mimetype": "text/x-python",
      "name": "python",
      "nbconvert_exporter": "python",
      "pygments_lexer": "ipython3",
      "version": "3.7.6"
    },
    "papermill": {
      "duration": 41.621455,
      "end_time": "2020-09-16T12:14:21.519745",
      "environment_variables": {},
      "exception": null,
      "input_path": "__notebook__.ipynb",
      "output_path": "__notebook__.ipynb",
      "parameters": {},
      "start_time": "2020-09-16T12:13:39.898290",
      "version": "2.1.0"
    },
    "colab": {
      "name": "car-features-and-price-prediction.ipynb",
      "provenance": [],
      "collapsed_sections": []
    }
  },
  "cells": [
    {
      "cell_type": "code",
      "metadata": {
        "execution": {
          "iopub.execute_input": "2020-09-16T12:13:45.035357Z",
          "iopub.status.busy": "2020-09-16T12:13:45.034683Z",
          "iopub.status.idle": "2020-09-16T12:13:47.122243Z",
          "shell.execute_reply": "2020-09-16T12:13:47.122741Z"
        },
        "papermill": {
          "duration": 2.146212,
          "end_time": "2020-09-16T12:13:47.122897",
          "exception": false,
          "start_time": "2020-09-16T12:13:44.976685",
          "status": "completed"
        },
        "tags": [],
        "id": "OOTkJhp8zy5-"
      },
      "source": [
        "import pandas as pd\n",
        "import numpy as np\n",
        "import seaborn as sns\n",
        "import matplotlib.pyplot as plt\n",
        "import plotly.graph_objects as go\n",
        "import plotly.express as px\n"
      ],
      "execution_count": null,
      "outputs": []
    },
    {
      "cell_type": "code",
      "metadata": {
        "execution": {
          "iopub.execute_input": "2020-09-16T12:13:47.234580Z",
          "iopub.status.busy": "2020-09-16T12:13:47.233865Z",
          "iopub.status.idle": "2020-09-16T12:13:47.303457Z",
          "shell.execute_reply": "2020-09-16T12:13:47.302807Z"
        },
        "papermill": {
          "duration": 0.125421,
          "end_time": "2020-09-16T12:13:47.303584",
          "exception": false,
          "start_time": "2020-09-16T12:13:47.178163",
          "status": "completed"
        },
        "tags": [],
        "id": "zy8LhvuZzy6A"
      },
      "source": [
        "df=pd.read_csv(\"../input/cardataset/data.csv\")\n",
        "#df contains the file information  which is in csv format"
      ],
      "execution_count": null,
      "outputs": []
    },
    {
      "cell_type": "code",
      "metadata": {
        "execution": {
          "iopub.execute_input": "2020-09-16T12:13:47.422550Z",
          "iopub.status.busy": "2020-09-16T12:13:47.421688Z",
          "iopub.status.idle": "2020-09-16T12:13:47.460809Z",
          "shell.execute_reply": "2020-09-16T12:13:47.461335Z"
        },
        "papermill": {
          "duration": 0.103034,
          "end_time": "2020-09-16T12:13:47.461499",
          "exception": false,
          "start_time": "2020-09-16T12:13:47.358465",
          "status": "completed"
        },
        "tags": [],
        "id": "AqQsl9oKzy6B",
        "outputId": "58578627-31ea-472f-8ca7-7fc1820fb9d4"
      },
      "source": [
        "df"
      ],
      "execution_count": null,
      "outputs": [
        {
          "data": {
            "text/html": [
              "<div>\n",
              "<style scoped>\n",
              "    .dataframe tbody tr th:only-of-type {\n",
              "        vertical-align: middle;\n",
              "    }\n",
              "\n",
              "    .dataframe tbody tr th {\n",
              "        vertical-align: top;\n",
              "    }\n",
              "\n",
              "    .dataframe thead th {\n",
              "        text-align: right;\n",
              "    }\n",
              "</style>\n",
              "<table border=\"1\" class=\"dataframe\">\n",
              "  <thead>\n",
              "    <tr style=\"text-align: right;\">\n",
              "      <th></th>\n",
              "      <th>Make</th>\n",
              "      <th>Model</th>\n",
              "      <th>Year</th>\n",
              "      <th>Engine Fuel Type</th>\n",
              "      <th>Engine HP</th>\n",
              "      <th>Engine Cylinders</th>\n",
              "      <th>Transmission Type</th>\n",
              "      <th>Driven_Wheels</th>\n",
              "      <th>Number of Doors</th>\n",
              "      <th>Market Category</th>\n",
              "      <th>Vehicle Size</th>\n",
              "      <th>Vehicle Style</th>\n",
              "      <th>highway MPG</th>\n",
              "      <th>city mpg</th>\n",
              "      <th>Popularity</th>\n",
              "      <th>MSRP</th>\n",
              "    </tr>\n",
              "  </thead>\n",
              "  <tbody>\n",
              "    <tr>\n",
              "      <th>0</th>\n",
              "      <td>BMW</td>\n",
              "      <td>1 Series M</td>\n",
              "      <td>2011</td>\n",
              "      <td>premium unleaded (required)</td>\n",
              "      <td>335.0</td>\n",
              "      <td>6.0</td>\n",
              "      <td>MANUAL</td>\n",
              "      <td>rear wheel drive</td>\n",
              "      <td>2.0</td>\n",
              "      <td>Factory Tuner,Luxury,High-Performance</td>\n",
              "      <td>Compact</td>\n",
              "      <td>Coupe</td>\n",
              "      <td>26</td>\n",
              "      <td>19</td>\n",
              "      <td>3916</td>\n",
              "      <td>46135</td>\n",
              "    </tr>\n",
              "    <tr>\n",
              "      <th>1</th>\n",
              "      <td>BMW</td>\n",
              "      <td>1 Series</td>\n",
              "      <td>2011</td>\n",
              "      <td>premium unleaded (required)</td>\n",
              "      <td>300.0</td>\n",
              "      <td>6.0</td>\n",
              "      <td>MANUAL</td>\n",
              "      <td>rear wheel drive</td>\n",
              "      <td>2.0</td>\n",
              "      <td>Luxury,Performance</td>\n",
              "      <td>Compact</td>\n",
              "      <td>Convertible</td>\n",
              "      <td>28</td>\n",
              "      <td>19</td>\n",
              "      <td>3916</td>\n",
              "      <td>40650</td>\n",
              "    </tr>\n",
              "    <tr>\n",
              "      <th>2</th>\n",
              "      <td>BMW</td>\n",
              "      <td>1 Series</td>\n",
              "      <td>2011</td>\n",
              "      <td>premium unleaded (required)</td>\n",
              "      <td>300.0</td>\n",
              "      <td>6.0</td>\n",
              "      <td>MANUAL</td>\n",
              "      <td>rear wheel drive</td>\n",
              "      <td>2.0</td>\n",
              "      <td>Luxury,High-Performance</td>\n",
              "      <td>Compact</td>\n",
              "      <td>Coupe</td>\n",
              "      <td>28</td>\n",
              "      <td>20</td>\n",
              "      <td>3916</td>\n",
              "      <td>36350</td>\n",
              "    </tr>\n",
              "    <tr>\n",
              "      <th>3</th>\n",
              "      <td>BMW</td>\n",
              "      <td>1 Series</td>\n",
              "      <td>2011</td>\n",
              "      <td>premium unleaded (required)</td>\n",
              "      <td>230.0</td>\n",
              "      <td>6.0</td>\n",
              "      <td>MANUAL</td>\n",
              "      <td>rear wheel drive</td>\n",
              "      <td>2.0</td>\n",
              "      <td>Luxury,Performance</td>\n",
              "      <td>Compact</td>\n",
              "      <td>Coupe</td>\n",
              "      <td>28</td>\n",
              "      <td>18</td>\n",
              "      <td>3916</td>\n",
              "      <td>29450</td>\n",
              "    </tr>\n",
              "    <tr>\n",
              "      <th>4</th>\n",
              "      <td>BMW</td>\n",
              "      <td>1 Series</td>\n",
              "      <td>2011</td>\n",
              "      <td>premium unleaded (required)</td>\n",
              "      <td>230.0</td>\n",
              "      <td>6.0</td>\n",
              "      <td>MANUAL</td>\n",
              "      <td>rear wheel drive</td>\n",
              "      <td>2.0</td>\n",
              "      <td>Luxury</td>\n",
              "      <td>Compact</td>\n",
              "      <td>Convertible</td>\n",
              "      <td>28</td>\n",
              "      <td>18</td>\n",
              "      <td>3916</td>\n",
              "      <td>34500</td>\n",
              "    </tr>\n",
              "    <tr>\n",
              "      <th>...</th>\n",
              "      <td>...</td>\n",
              "      <td>...</td>\n",
              "      <td>...</td>\n",
              "      <td>...</td>\n",
              "      <td>...</td>\n",
              "      <td>...</td>\n",
              "      <td>...</td>\n",
              "      <td>...</td>\n",
              "      <td>...</td>\n",
              "      <td>...</td>\n",
              "      <td>...</td>\n",
              "      <td>...</td>\n",
              "      <td>...</td>\n",
              "      <td>...</td>\n",
              "      <td>...</td>\n",
              "      <td>...</td>\n",
              "    </tr>\n",
              "    <tr>\n",
              "      <th>11909</th>\n",
              "      <td>Acura</td>\n",
              "      <td>ZDX</td>\n",
              "      <td>2012</td>\n",
              "      <td>premium unleaded (required)</td>\n",
              "      <td>300.0</td>\n",
              "      <td>6.0</td>\n",
              "      <td>AUTOMATIC</td>\n",
              "      <td>all wheel drive</td>\n",
              "      <td>4.0</td>\n",
              "      <td>Crossover,Hatchback,Luxury</td>\n",
              "      <td>Midsize</td>\n",
              "      <td>4dr Hatchback</td>\n",
              "      <td>23</td>\n",
              "      <td>16</td>\n",
              "      <td>204</td>\n",
              "      <td>46120</td>\n",
              "    </tr>\n",
              "    <tr>\n",
              "      <th>11910</th>\n",
              "      <td>Acura</td>\n",
              "      <td>ZDX</td>\n",
              "      <td>2012</td>\n",
              "      <td>premium unleaded (required)</td>\n",
              "      <td>300.0</td>\n",
              "      <td>6.0</td>\n",
              "      <td>AUTOMATIC</td>\n",
              "      <td>all wheel drive</td>\n",
              "      <td>4.0</td>\n",
              "      <td>Crossover,Hatchback,Luxury</td>\n",
              "      <td>Midsize</td>\n",
              "      <td>4dr Hatchback</td>\n",
              "      <td>23</td>\n",
              "      <td>16</td>\n",
              "      <td>204</td>\n",
              "      <td>56670</td>\n",
              "    </tr>\n",
              "    <tr>\n",
              "      <th>11911</th>\n",
              "      <td>Acura</td>\n",
              "      <td>ZDX</td>\n",
              "      <td>2012</td>\n",
              "      <td>premium unleaded (required)</td>\n",
              "      <td>300.0</td>\n",
              "      <td>6.0</td>\n",
              "      <td>AUTOMATIC</td>\n",
              "      <td>all wheel drive</td>\n",
              "      <td>4.0</td>\n",
              "      <td>Crossover,Hatchback,Luxury</td>\n",
              "      <td>Midsize</td>\n",
              "      <td>4dr Hatchback</td>\n",
              "      <td>23</td>\n",
              "      <td>16</td>\n",
              "      <td>204</td>\n",
              "      <td>50620</td>\n",
              "    </tr>\n",
              "    <tr>\n",
              "      <th>11912</th>\n",
              "      <td>Acura</td>\n",
              "      <td>ZDX</td>\n",
              "      <td>2013</td>\n",
              "      <td>premium unleaded (recommended)</td>\n",
              "      <td>300.0</td>\n",
              "      <td>6.0</td>\n",
              "      <td>AUTOMATIC</td>\n",
              "      <td>all wheel drive</td>\n",
              "      <td>4.0</td>\n",
              "      <td>Crossover,Hatchback,Luxury</td>\n",
              "      <td>Midsize</td>\n",
              "      <td>4dr Hatchback</td>\n",
              "      <td>23</td>\n",
              "      <td>16</td>\n",
              "      <td>204</td>\n",
              "      <td>50920</td>\n",
              "    </tr>\n",
              "    <tr>\n",
              "      <th>11913</th>\n",
              "      <td>Lincoln</td>\n",
              "      <td>Zephyr</td>\n",
              "      <td>2006</td>\n",
              "      <td>regular unleaded</td>\n",
              "      <td>221.0</td>\n",
              "      <td>6.0</td>\n",
              "      <td>AUTOMATIC</td>\n",
              "      <td>front wheel drive</td>\n",
              "      <td>4.0</td>\n",
              "      <td>Luxury</td>\n",
              "      <td>Midsize</td>\n",
              "      <td>Sedan</td>\n",
              "      <td>26</td>\n",
              "      <td>17</td>\n",
              "      <td>61</td>\n",
              "      <td>28995</td>\n",
              "    </tr>\n",
              "  </tbody>\n",
              "</table>\n",
              "<p>11914 rows × 16 columns</p>\n",
              "</div>"
            ],
            "text/plain": [
              "          Make       Model  Year                Engine Fuel Type  Engine HP  \\\n",
              "0          BMW  1 Series M  2011     premium unleaded (required)      335.0   \n",
              "1          BMW    1 Series  2011     premium unleaded (required)      300.0   \n",
              "2          BMW    1 Series  2011     premium unleaded (required)      300.0   \n",
              "3          BMW    1 Series  2011     premium unleaded (required)      230.0   \n",
              "4          BMW    1 Series  2011     premium unleaded (required)      230.0   \n",
              "...        ...         ...   ...                             ...        ...   \n",
              "11909    Acura         ZDX  2012     premium unleaded (required)      300.0   \n",
              "11910    Acura         ZDX  2012     premium unleaded (required)      300.0   \n",
              "11911    Acura         ZDX  2012     premium unleaded (required)      300.0   \n",
              "11912    Acura         ZDX  2013  premium unleaded (recommended)      300.0   \n",
              "11913  Lincoln      Zephyr  2006                regular unleaded      221.0   \n",
              "\n",
              "       Engine Cylinders Transmission Type      Driven_Wheels  Number of Doors  \\\n",
              "0                   6.0            MANUAL   rear wheel drive              2.0   \n",
              "1                   6.0            MANUAL   rear wheel drive              2.0   \n",
              "2                   6.0            MANUAL   rear wheel drive              2.0   \n",
              "3                   6.0            MANUAL   rear wheel drive              2.0   \n",
              "4                   6.0            MANUAL   rear wheel drive              2.0   \n",
              "...                 ...               ...                ...              ...   \n",
              "11909               6.0         AUTOMATIC    all wheel drive              4.0   \n",
              "11910               6.0         AUTOMATIC    all wheel drive              4.0   \n",
              "11911               6.0         AUTOMATIC    all wheel drive              4.0   \n",
              "11912               6.0         AUTOMATIC    all wheel drive              4.0   \n",
              "11913               6.0         AUTOMATIC  front wheel drive              4.0   \n",
              "\n",
              "                             Market Category Vehicle Size  Vehicle Style  \\\n",
              "0      Factory Tuner,Luxury,High-Performance      Compact          Coupe   \n",
              "1                         Luxury,Performance      Compact    Convertible   \n",
              "2                    Luxury,High-Performance      Compact          Coupe   \n",
              "3                         Luxury,Performance      Compact          Coupe   \n",
              "4                                     Luxury      Compact    Convertible   \n",
              "...                                      ...          ...            ...   \n",
              "11909             Crossover,Hatchback,Luxury      Midsize  4dr Hatchback   \n",
              "11910             Crossover,Hatchback,Luxury      Midsize  4dr Hatchback   \n",
              "11911             Crossover,Hatchback,Luxury      Midsize  4dr Hatchback   \n",
              "11912             Crossover,Hatchback,Luxury      Midsize  4dr Hatchback   \n",
              "11913                                 Luxury      Midsize          Sedan   \n",
              "\n",
              "       highway MPG  city mpg  Popularity   MSRP  \n",
              "0               26        19        3916  46135  \n",
              "1               28        19        3916  40650  \n",
              "2               28        20        3916  36350  \n",
              "3               28        18        3916  29450  \n",
              "4               28        18        3916  34500  \n",
              "...            ...       ...         ...    ...  \n",
              "11909           23        16         204  46120  \n",
              "11910           23        16         204  56670  \n",
              "11911           23        16         204  50620  \n",
              "11912           23        16         204  50920  \n",
              "11913           26        17          61  28995  \n",
              "\n",
              "[11914 rows x 16 columns]"
            ]
          },
          "execution_count": 4,
          "metadata": {},
          "output_type": "execute_result"
        }
      ]
    },
    {
      "cell_type": "code",
      "metadata": {
        "execution": {
          "iopub.execute_input": "2020-09-16T12:13:47.579960Z",
          "iopub.status.busy": "2020-09-16T12:13:47.579081Z",
          "iopub.status.idle": "2020-09-16T12:13:47.583539Z",
          "shell.execute_reply": "2020-09-16T12:13:47.584027Z"
        },
        "papermill": {
          "duration": 0.068569,
          "end_time": "2020-09-16T12:13:47.584182",
          "exception": false,
          "start_time": "2020-09-16T12:13:47.515613",
          "status": "completed"
        },
        "tags": [],
        "id": "C6K2Twckzy6C",
        "outputId": "243b8f86-fd4d-4118-f58d-55103bbb4a27"
      },
      "source": [
        "df.columns\n",
        "#listing the column names of the dataset/dataframe"
      ],
      "execution_count": null,
      "outputs": [
        {
          "data": {
            "text/plain": [
              "Index(['Make', 'Model', 'Year', 'Engine Fuel Type', 'Engine HP',\n",
              "       'Engine Cylinders', 'Transmission Type', 'Driven_Wheels',\n",
              "       'Number of Doors', 'Market Category', 'Vehicle Size', 'Vehicle Style',\n",
              "       'highway MPG', 'city mpg', 'Popularity', 'MSRP'],\n",
              "      dtype='object')"
            ]
          },
          "execution_count": 5,
          "metadata": {},
          "output_type": "execute_result"
        }
      ]
    },
    {
      "cell_type": "code",
      "metadata": {
        "execution": {
          "iopub.execute_input": "2020-09-16T12:13:47.704034Z",
          "iopub.status.busy": "2020-09-16T12:13:47.703351Z",
          "iopub.status.idle": "2020-09-16T12:13:47.706451Z",
          "shell.execute_reply": "2020-09-16T12:13:47.707048Z"
        },
        "papermill": {
          "duration": 0.066565,
          "end_time": "2020-09-16T12:13:47.707207",
          "exception": false,
          "start_time": "2020-09-16T12:13:47.640642",
          "status": "completed"
        },
        "tags": [],
        "id": "4Fl3SwoOzy6E",
        "outputId": "175ed20f-4fdb-4ab4-8eb3-cc1058d93e92"
      },
      "source": [
        "df.dtypes\n",
        "#checking the datatypes of different columns of the dataframe"
      ],
      "execution_count": null,
      "outputs": [
        {
          "data": {
            "text/plain": [
              "Make                  object\n",
              "Model                 object\n",
              "Year                   int64\n",
              "Engine Fuel Type      object\n",
              "Engine HP            float64\n",
              "Engine Cylinders     float64\n",
              "Transmission Type     object\n",
              "Driven_Wheels         object\n",
              "Number of Doors      float64\n",
              "Market Category       object\n",
              "Vehicle Size          object\n",
              "Vehicle Style         object\n",
              "highway MPG            int64\n",
              "city mpg               int64\n",
              "Popularity             int64\n",
              "MSRP                   int64\n",
              "dtype: object"
            ]
          },
          "execution_count": 6,
          "metadata": {},
          "output_type": "execute_result"
        }
      ]
    },
    {
      "cell_type": "code",
      "metadata": {
        "execution": {
          "iopub.execute_input": "2020-09-16T12:13:47.826973Z",
          "iopub.status.busy": "2020-09-16T12:13:47.826332Z",
          "iopub.status.idle": "2020-09-16T12:13:47.858270Z",
          "shell.execute_reply": "2020-09-16T12:13:47.857663Z"
        },
        "papermill": {
          "duration": 0.090022,
          "end_time": "2020-09-16T12:13:47.858399",
          "exception": false,
          "start_time": "2020-09-16T12:13:47.768377",
          "status": "completed"
        },
        "tags": [],
        "id": "tAmxObmLzy6G",
        "outputId": "0d4d6570-efd1-44ac-88d3-86c937d2f0aa"
      },
      "source": [
        "df.info()\n",
        "#getting the information of dataframe such as no. of entries,data columns,non-null count,data types,etc"
      ],
      "execution_count": null,
      "outputs": [
        {
          "name": "stdout",
          "output_type": "stream",
          "text": [
            "<class 'pandas.core.frame.DataFrame'>\n",
            "RangeIndex: 11914 entries, 0 to 11913\n",
            "Data columns (total 16 columns):\n",
            " #   Column             Non-Null Count  Dtype  \n",
            "---  ------             --------------  -----  \n",
            " 0   Make               11914 non-null  object \n",
            " 1   Model              11914 non-null  object \n",
            " 2   Year               11914 non-null  int64  \n",
            " 3   Engine Fuel Type   11911 non-null  object \n",
            " 4   Engine HP          11845 non-null  float64\n",
            " 5   Engine Cylinders   11884 non-null  float64\n",
            " 6   Transmission Type  11914 non-null  object \n",
            " 7   Driven_Wheels      11914 non-null  object \n",
            " 8   Number of Doors    11908 non-null  float64\n",
            " 9   Market Category    8172 non-null   object \n",
            " 10  Vehicle Size       11914 non-null  object \n",
            " 11  Vehicle Style      11914 non-null  object \n",
            " 12  highway MPG        11914 non-null  int64  \n",
            " 13  city mpg           11914 non-null  int64  \n",
            " 14  Popularity         11914 non-null  int64  \n",
            " 15  MSRP               11914 non-null  int64  \n",
            "dtypes: float64(3), int64(5), object(8)\n",
            "memory usage: 1.5+ MB\n"
          ]
        }
      ]
    },
    {
      "cell_type": "code",
      "metadata": {
        "execution": {
          "iopub.execute_input": "2020-09-16T12:13:47.979133Z",
          "iopub.status.busy": "2020-09-16T12:13:47.978214Z",
          "iopub.status.idle": "2020-09-16T12:13:47.983106Z",
          "shell.execute_reply": "2020-09-16T12:13:47.982609Z"
        },
        "papermill": {
          "duration": 0.068713,
          "end_time": "2020-09-16T12:13:47.983221",
          "exception": false,
          "start_time": "2020-09-16T12:13:47.914508",
          "status": "completed"
        },
        "tags": [],
        "id": "9K6DbAMnzy6I",
        "outputId": "dbf583c4-9992-452a-edb4-550d4420950f"
      },
      "source": [
        "df.shape\n",
        "#shape of the dataframe ie no. of rows and columns"
      ],
      "execution_count": null,
      "outputs": [
        {
          "data": {
            "text/plain": [
              "(11914, 16)"
            ]
          },
          "execution_count": 8,
          "metadata": {},
          "output_type": "execute_result"
        }
      ]
    },
    {
      "cell_type": "code",
      "metadata": {
        "execution": {
          "iopub.execute_input": "2020-09-16T12:13:48.099459Z",
          "iopub.status.busy": "2020-09-16T12:13:48.098761Z",
          "iopub.status.idle": "2020-09-16T12:13:48.135562Z",
          "shell.execute_reply": "2020-09-16T12:13:48.134978Z"
        },
        "papermill": {
          "duration": 0.098609,
          "end_time": "2020-09-16T12:13:48.135680",
          "exception": false,
          "start_time": "2020-09-16T12:13:48.037071",
          "status": "completed"
        },
        "tags": [],
        "id": "NMEHaRuWzy6J",
        "outputId": "6c2371f3-df98-4bbd-a2b5-4547988141fd"
      },
      "source": [
        "df.describe()\n",
        "#checking for statistical summary such as count,mean,etc. of numeric columns"
      ],
      "execution_count": null,
      "outputs": [
        {
          "data": {
            "text/html": [
              "<div>\n",
              "<style scoped>\n",
              "    .dataframe tbody tr th:only-of-type {\n",
              "        vertical-align: middle;\n",
              "    }\n",
              "\n",
              "    .dataframe tbody tr th {\n",
              "        vertical-align: top;\n",
              "    }\n",
              "\n",
              "    .dataframe thead th {\n",
              "        text-align: right;\n",
              "    }\n",
              "</style>\n",
              "<table border=\"1\" class=\"dataframe\">\n",
              "  <thead>\n",
              "    <tr style=\"text-align: right;\">\n",
              "      <th></th>\n",
              "      <th>Year</th>\n",
              "      <th>Engine HP</th>\n",
              "      <th>Engine Cylinders</th>\n",
              "      <th>Number of Doors</th>\n",
              "      <th>highway MPG</th>\n",
              "      <th>city mpg</th>\n",
              "      <th>Popularity</th>\n",
              "      <th>MSRP</th>\n",
              "    </tr>\n",
              "  </thead>\n",
              "  <tbody>\n",
              "    <tr>\n",
              "      <th>count</th>\n",
              "      <td>11914.000000</td>\n",
              "      <td>11845.00000</td>\n",
              "      <td>11884.000000</td>\n",
              "      <td>11908.000000</td>\n",
              "      <td>11914.000000</td>\n",
              "      <td>11914.000000</td>\n",
              "      <td>11914.000000</td>\n",
              "      <td>1.191400e+04</td>\n",
              "    </tr>\n",
              "    <tr>\n",
              "      <th>mean</th>\n",
              "      <td>2010.384338</td>\n",
              "      <td>249.38607</td>\n",
              "      <td>5.628829</td>\n",
              "      <td>3.436093</td>\n",
              "      <td>26.637485</td>\n",
              "      <td>19.733255</td>\n",
              "      <td>1554.911197</td>\n",
              "      <td>4.059474e+04</td>\n",
              "    </tr>\n",
              "    <tr>\n",
              "      <th>std</th>\n",
              "      <td>7.579740</td>\n",
              "      <td>109.19187</td>\n",
              "      <td>1.780559</td>\n",
              "      <td>0.881315</td>\n",
              "      <td>8.863001</td>\n",
              "      <td>8.987798</td>\n",
              "      <td>1441.855347</td>\n",
              "      <td>6.010910e+04</td>\n",
              "    </tr>\n",
              "    <tr>\n",
              "      <th>min</th>\n",
              "      <td>1990.000000</td>\n",
              "      <td>55.00000</td>\n",
              "      <td>0.000000</td>\n",
              "      <td>2.000000</td>\n",
              "      <td>12.000000</td>\n",
              "      <td>7.000000</td>\n",
              "      <td>2.000000</td>\n",
              "      <td>2.000000e+03</td>\n",
              "    </tr>\n",
              "    <tr>\n",
              "      <th>25%</th>\n",
              "      <td>2007.000000</td>\n",
              "      <td>170.00000</td>\n",
              "      <td>4.000000</td>\n",
              "      <td>2.000000</td>\n",
              "      <td>22.000000</td>\n",
              "      <td>16.000000</td>\n",
              "      <td>549.000000</td>\n",
              "      <td>2.100000e+04</td>\n",
              "    </tr>\n",
              "    <tr>\n",
              "      <th>50%</th>\n",
              "      <td>2015.000000</td>\n",
              "      <td>227.00000</td>\n",
              "      <td>6.000000</td>\n",
              "      <td>4.000000</td>\n",
              "      <td>26.000000</td>\n",
              "      <td>18.000000</td>\n",
              "      <td>1385.000000</td>\n",
              "      <td>2.999500e+04</td>\n",
              "    </tr>\n",
              "    <tr>\n",
              "      <th>75%</th>\n",
              "      <td>2016.000000</td>\n",
              "      <td>300.00000</td>\n",
              "      <td>6.000000</td>\n",
              "      <td>4.000000</td>\n",
              "      <td>30.000000</td>\n",
              "      <td>22.000000</td>\n",
              "      <td>2009.000000</td>\n",
              "      <td>4.223125e+04</td>\n",
              "    </tr>\n",
              "    <tr>\n",
              "      <th>max</th>\n",
              "      <td>2017.000000</td>\n",
              "      <td>1001.00000</td>\n",
              "      <td>16.000000</td>\n",
              "      <td>4.000000</td>\n",
              "      <td>354.000000</td>\n",
              "      <td>137.000000</td>\n",
              "      <td>5657.000000</td>\n",
              "      <td>2.065902e+06</td>\n",
              "    </tr>\n",
              "  </tbody>\n",
              "</table>\n",
              "</div>"
            ],
            "text/plain": [
              "               Year    Engine HP  Engine Cylinders  Number of Doors  \\\n",
              "count  11914.000000  11845.00000      11884.000000     11908.000000   \n",
              "mean    2010.384338    249.38607          5.628829         3.436093   \n",
              "std        7.579740    109.19187          1.780559         0.881315   \n",
              "min     1990.000000     55.00000          0.000000         2.000000   \n",
              "25%     2007.000000    170.00000          4.000000         2.000000   \n",
              "50%     2015.000000    227.00000          6.000000         4.000000   \n",
              "75%     2016.000000    300.00000          6.000000         4.000000   \n",
              "max     2017.000000   1001.00000         16.000000         4.000000   \n",
              "\n",
              "        highway MPG      city mpg    Popularity          MSRP  \n",
              "count  11914.000000  11914.000000  11914.000000  1.191400e+04  \n",
              "mean      26.637485     19.733255   1554.911197  4.059474e+04  \n",
              "std        8.863001      8.987798   1441.855347  6.010910e+04  \n",
              "min       12.000000      7.000000      2.000000  2.000000e+03  \n",
              "25%       22.000000     16.000000    549.000000  2.100000e+04  \n",
              "50%       26.000000     18.000000   1385.000000  2.999500e+04  \n",
              "75%       30.000000     22.000000   2009.000000  4.223125e+04  \n",
              "max      354.000000    137.000000   5657.000000  2.065902e+06  "
            ]
          },
          "execution_count": 9,
          "metadata": {},
          "output_type": "execute_result"
        }
      ]
    },
    {
      "cell_type": "code",
      "metadata": {
        "execution": {
          "iopub.execute_input": "2020-09-16T12:13:48.251499Z",
          "iopub.status.busy": "2020-09-16T12:13:48.250557Z",
          "iopub.status.idle": "2020-09-16T12:13:48.278827Z",
          "shell.execute_reply": "2020-09-16T12:13:48.278160Z"
        },
        "papermill": {
          "duration": 0.087772,
          "end_time": "2020-09-16T12:13:48.278944",
          "exception": false,
          "start_time": "2020-09-16T12:13:48.191172",
          "status": "completed"
        },
        "tags": [],
        "id": "iNOiZuWHzy6L"
      },
      "source": [
        "df.drop(df[df['MSRP'] == 0].index,inplace=True)\n",
        "#dropping rows which have zero as a value for MSRP column as it is our dependent/target variable."
      ],
      "execution_count": null,
      "outputs": []
    },
    {
      "cell_type": "code",
      "metadata": {
        "execution": {
          "iopub.execute_input": "2020-09-16T12:13:48.394512Z",
          "iopub.status.busy": "2020-09-16T12:13:48.393847Z",
          "iopub.status.idle": "2020-09-16T12:13:48.396536Z",
          "shell.execute_reply": "2020-09-16T12:13:48.396991Z"
        },
        "papermill": {
          "duration": 0.062591,
          "end_time": "2020-09-16T12:13:48.397133",
          "exception": false,
          "start_time": "2020-09-16T12:13:48.334542",
          "status": "completed"
        },
        "tags": [],
        "id": "rptzdbtxzy6M",
        "outputId": "90c52e0c-4bbe-4033-e337-6ec005739839"
      },
      "source": [
        "df.shape"
      ],
      "execution_count": null,
      "outputs": [
        {
          "data": {
            "text/plain": [
              "(11914, 16)"
            ]
          },
          "execution_count": 11,
          "metadata": {},
          "output_type": "execute_result"
        }
      ]
    },
    {
      "cell_type": "code",
      "metadata": {
        "execution": {
          "iopub.execute_input": "2020-09-16T12:13:48.511628Z",
          "iopub.status.busy": "2020-09-16T12:13:48.510978Z",
          "iopub.status.idle": "2020-09-16T12:13:48.516840Z",
          "shell.execute_reply": "2020-09-16T12:13:48.517362Z"
        },
        "papermill": {
          "duration": 0.06458,
          "end_time": "2020-09-16T12:13:48.517526",
          "exception": false,
          "start_time": "2020-09-16T12:13:48.452946",
          "status": "completed"
        },
        "tags": [],
        "id": "8AAr_tkszy6N"
      },
      "source": [
        "df.drop(['Market Category'], axis=1, inplace=True)\n",
        "#dropping 'market category' column as MSRP is independent of it and hence not useful in predicting price of car. "
      ],
      "execution_count": null,
      "outputs": []
    },
    {
      "cell_type": "code",
      "metadata": {
        "execution": {
          "iopub.execute_input": "2020-09-16T12:13:48.632462Z",
          "iopub.status.busy": "2020-09-16T12:13:48.631701Z",
          "iopub.status.idle": "2020-09-16T12:13:48.636365Z",
          "shell.execute_reply": "2020-09-16T12:13:48.636903Z"
        },
        "papermill": {
          "duration": 0.063877,
          "end_time": "2020-09-16T12:13:48.637040",
          "exception": false,
          "start_time": "2020-09-16T12:13:48.573163",
          "status": "completed"
        },
        "tags": [],
        "id": "MQS9JcuFzy6O",
        "outputId": "45f77fcd-014d-4a01-c232-a175f1e3e8a6"
      },
      "source": [
        "df.shape"
      ],
      "execution_count": null,
      "outputs": [
        {
          "data": {
            "text/plain": [
              "(11914, 15)"
            ]
          },
          "execution_count": 13,
          "metadata": {},
          "output_type": "execute_result"
        }
      ]
    },
    {
      "cell_type": "code",
      "metadata": {
        "execution": {
          "iopub.execute_input": "2020-09-16T12:13:48.752600Z",
          "iopub.status.busy": "2020-09-16T12:13:48.751918Z",
          "iopub.status.idle": "2020-09-16T12:13:48.757476Z",
          "shell.execute_reply": "2020-09-16T12:13:48.758046Z"
        },
        "papermill": {
          "duration": 0.065132,
          "end_time": "2020-09-16T12:13:48.758189",
          "exception": false,
          "start_time": "2020-09-16T12:13:48.693057",
          "status": "completed"
        },
        "tags": [],
        "id": "Uv8rou5lzy6P"
      },
      "source": [
        "df=df.rename(columns={'Engine HP':'HP','Engine Cylinders':'Cylinders','Transmission Type':'Transmission','Driven_Wheels':'Drive Mode','highway MPG':'MPG-H','city mpg':'MPG-C','MSRP':'Price'})\n",
        "#renaming the column names as per mentioned in the steps of the problem statement"
      ],
      "execution_count": null,
      "outputs": []
    },
    {
      "cell_type": "code",
      "metadata": {
        "execution": {
          "iopub.execute_input": "2020-09-16T12:13:48.940820Z",
          "iopub.status.busy": "2020-09-16T12:13:48.940014Z",
          "iopub.status.idle": "2020-09-16T12:13:48.945088Z",
          "shell.execute_reply": "2020-09-16T12:13:48.944594Z"
        },
        "papermill": {
          "duration": 0.106756,
          "end_time": "2020-09-16T12:13:48.945214",
          "exception": false,
          "start_time": "2020-09-16T12:13:48.838458",
          "status": "completed"
        },
        "tags": [],
        "id": "EwPCTkKAzy6Q",
        "outputId": "b62cbc9c-562a-494a-c969-b00342c1ecd3"
      },
      "source": [
        "df"
      ],
      "execution_count": null,
      "outputs": [
        {
          "data": {
            "text/html": [
              "<div>\n",
              "<style scoped>\n",
              "    .dataframe tbody tr th:only-of-type {\n",
              "        vertical-align: middle;\n",
              "    }\n",
              "\n",
              "    .dataframe tbody tr th {\n",
              "        vertical-align: top;\n",
              "    }\n",
              "\n",
              "    .dataframe thead th {\n",
              "        text-align: right;\n",
              "    }\n",
              "</style>\n",
              "<table border=\"1\" class=\"dataframe\">\n",
              "  <thead>\n",
              "    <tr style=\"text-align: right;\">\n",
              "      <th></th>\n",
              "      <th>Make</th>\n",
              "      <th>Model</th>\n",
              "      <th>Year</th>\n",
              "      <th>Engine Fuel Type</th>\n",
              "      <th>HP</th>\n",
              "      <th>Cylinders</th>\n",
              "      <th>Transmission</th>\n",
              "      <th>Drive Mode</th>\n",
              "      <th>Number of Doors</th>\n",
              "      <th>Vehicle Size</th>\n",
              "      <th>Vehicle Style</th>\n",
              "      <th>MPG-H</th>\n",
              "      <th>MPG-C</th>\n",
              "      <th>Popularity</th>\n",
              "      <th>Price</th>\n",
              "    </tr>\n",
              "  </thead>\n",
              "  <tbody>\n",
              "    <tr>\n",
              "      <th>0</th>\n",
              "      <td>BMW</td>\n",
              "      <td>1 Series M</td>\n",
              "      <td>2011</td>\n",
              "      <td>premium unleaded (required)</td>\n",
              "      <td>335.0</td>\n",
              "      <td>6.0</td>\n",
              "      <td>MANUAL</td>\n",
              "      <td>rear wheel drive</td>\n",
              "      <td>2.0</td>\n",
              "      <td>Compact</td>\n",
              "      <td>Coupe</td>\n",
              "      <td>26</td>\n",
              "      <td>19</td>\n",
              "      <td>3916</td>\n",
              "      <td>46135</td>\n",
              "    </tr>\n",
              "    <tr>\n",
              "      <th>1</th>\n",
              "      <td>BMW</td>\n",
              "      <td>1 Series</td>\n",
              "      <td>2011</td>\n",
              "      <td>premium unleaded (required)</td>\n",
              "      <td>300.0</td>\n",
              "      <td>6.0</td>\n",
              "      <td>MANUAL</td>\n",
              "      <td>rear wheel drive</td>\n",
              "      <td>2.0</td>\n",
              "      <td>Compact</td>\n",
              "      <td>Convertible</td>\n",
              "      <td>28</td>\n",
              "      <td>19</td>\n",
              "      <td>3916</td>\n",
              "      <td>40650</td>\n",
              "    </tr>\n",
              "    <tr>\n",
              "      <th>2</th>\n",
              "      <td>BMW</td>\n",
              "      <td>1 Series</td>\n",
              "      <td>2011</td>\n",
              "      <td>premium unleaded (required)</td>\n",
              "      <td>300.0</td>\n",
              "      <td>6.0</td>\n",
              "      <td>MANUAL</td>\n",
              "      <td>rear wheel drive</td>\n",
              "      <td>2.0</td>\n",
              "      <td>Compact</td>\n",
              "      <td>Coupe</td>\n",
              "      <td>28</td>\n",
              "      <td>20</td>\n",
              "      <td>3916</td>\n",
              "      <td>36350</td>\n",
              "    </tr>\n",
              "    <tr>\n",
              "      <th>3</th>\n",
              "      <td>BMW</td>\n",
              "      <td>1 Series</td>\n",
              "      <td>2011</td>\n",
              "      <td>premium unleaded (required)</td>\n",
              "      <td>230.0</td>\n",
              "      <td>6.0</td>\n",
              "      <td>MANUAL</td>\n",
              "      <td>rear wheel drive</td>\n",
              "      <td>2.0</td>\n",
              "      <td>Compact</td>\n",
              "      <td>Coupe</td>\n",
              "      <td>28</td>\n",
              "      <td>18</td>\n",
              "      <td>3916</td>\n",
              "      <td>29450</td>\n",
              "    </tr>\n",
              "    <tr>\n",
              "      <th>4</th>\n",
              "      <td>BMW</td>\n",
              "      <td>1 Series</td>\n",
              "      <td>2011</td>\n",
              "      <td>premium unleaded (required)</td>\n",
              "      <td>230.0</td>\n",
              "      <td>6.0</td>\n",
              "      <td>MANUAL</td>\n",
              "      <td>rear wheel drive</td>\n",
              "      <td>2.0</td>\n",
              "      <td>Compact</td>\n",
              "      <td>Convertible</td>\n",
              "      <td>28</td>\n",
              "      <td>18</td>\n",
              "      <td>3916</td>\n",
              "      <td>34500</td>\n",
              "    </tr>\n",
              "    <tr>\n",
              "      <th>...</th>\n",
              "      <td>...</td>\n",
              "      <td>...</td>\n",
              "      <td>...</td>\n",
              "      <td>...</td>\n",
              "      <td>...</td>\n",
              "      <td>...</td>\n",
              "      <td>...</td>\n",
              "      <td>...</td>\n",
              "      <td>...</td>\n",
              "      <td>...</td>\n",
              "      <td>...</td>\n",
              "      <td>...</td>\n",
              "      <td>...</td>\n",
              "      <td>...</td>\n",
              "      <td>...</td>\n",
              "    </tr>\n",
              "    <tr>\n",
              "      <th>11909</th>\n",
              "      <td>Acura</td>\n",
              "      <td>ZDX</td>\n",
              "      <td>2012</td>\n",
              "      <td>premium unleaded (required)</td>\n",
              "      <td>300.0</td>\n",
              "      <td>6.0</td>\n",
              "      <td>AUTOMATIC</td>\n",
              "      <td>all wheel drive</td>\n",
              "      <td>4.0</td>\n",
              "      <td>Midsize</td>\n",
              "      <td>4dr Hatchback</td>\n",
              "      <td>23</td>\n",
              "      <td>16</td>\n",
              "      <td>204</td>\n",
              "      <td>46120</td>\n",
              "    </tr>\n",
              "    <tr>\n",
              "      <th>11910</th>\n",
              "      <td>Acura</td>\n",
              "      <td>ZDX</td>\n",
              "      <td>2012</td>\n",
              "      <td>premium unleaded (required)</td>\n",
              "      <td>300.0</td>\n",
              "      <td>6.0</td>\n",
              "      <td>AUTOMATIC</td>\n",
              "      <td>all wheel drive</td>\n",
              "      <td>4.0</td>\n",
              "      <td>Midsize</td>\n",
              "      <td>4dr Hatchback</td>\n",
              "      <td>23</td>\n",
              "      <td>16</td>\n",
              "      <td>204</td>\n",
              "      <td>56670</td>\n",
              "    </tr>\n",
              "    <tr>\n",
              "      <th>11911</th>\n",
              "      <td>Acura</td>\n",
              "      <td>ZDX</td>\n",
              "      <td>2012</td>\n",
              "      <td>premium unleaded (required)</td>\n",
              "      <td>300.0</td>\n",
              "      <td>6.0</td>\n",
              "      <td>AUTOMATIC</td>\n",
              "      <td>all wheel drive</td>\n",
              "      <td>4.0</td>\n",
              "      <td>Midsize</td>\n",
              "      <td>4dr Hatchback</td>\n",
              "      <td>23</td>\n",
              "      <td>16</td>\n",
              "      <td>204</td>\n",
              "      <td>50620</td>\n",
              "    </tr>\n",
              "    <tr>\n",
              "      <th>11912</th>\n",
              "      <td>Acura</td>\n",
              "      <td>ZDX</td>\n",
              "      <td>2013</td>\n",
              "      <td>premium unleaded (recommended)</td>\n",
              "      <td>300.0</td>\n",
              "      <td>6.0</td>\n",
              "      <td>AUTOMATIC</td>\n",
              "      <td>all wheel drive</td>\n",
              "      <td>4.0</td>\n",
              "      <td>Midsize</td>\n",
              "      <td>4dr Hatchback</td>\n",
              "      <td>23</td>\n",
              "      <td>16</td>\n",
              "      <td>204</td>\n",
              "      <td>50920</td>\n",
              "    </tr>\n",
              "    <tr>\n",
              "      <th>11913</th>\n",
              "      <td>Lincoln</td>\n",
              "      <td>Zephyr</td>\n",
              "      <td>2006</td>\n",
              "      <td>regular unleaded</td>\n",
              "      <td>221.0</td>\n",
              "      <td>6.0</td>\n",
              "      <td>AUTOMATIC</td>\n",
              "      <td>front wheel drive</td>\n",
              "      <td>4.0</td>\n",
              "      <td>Midsize</td>\n",
              "      <td>Sedan</td>\n",
              "      <td>26</td>\n",
              "      <td>17</td>\n",
              "      <td>61</td>\n",
              "      <td>28995</td>\n",
              "    </tr>\n",
              "  </tbody>\n",
              "</table>\n",
              "<p>11914 rows × 15 columns</p>\n",
              "</div>"
            ],
            "text/plain": [
              "          Make       Model  Year                Engine Fuel Type     HP  \\\n",
              "0          BMW  1 Series M  2011     premium unleaded (required)  335.0   \n",
              "1          BMW    1 Series  2011     premium unleaded (required)  300.0   \n",
              "2          BMW    1 Series  2011     premium unleaded (required)  300.0   \n",
              "3          BMW    1 Series  2011     premium unleaded (required)  230.0   \n",
              "4          BMW    1 Series  2011     premium unleaded (required)  230.0   \n",
              "...        ...         ...   ...                             ...    ...   \n",
              "11909    Acura         ZDX  2012     premium unleaded (required)  300.0   \n",
              "11910    Acura         ZDX  2012     premium unleaded (required)  300.0   \n",
              "11911    Acura         ZDX  2012     premium unleaded (required)  300.0   \n",
              "11912    Acura         ZDX  2013  premium unleaded (recommended)  300.0   \n",
              "11913  Lincoln      Zephyr  2006                regular unleaded  221.0   \n",
              "\n",
              "       Cylinders Transmission         Drive Mode  Number of Doors  \\\n",
              "0            6.0       MANUAL   rear wheel drive              2.0   \n",
              "1            6.0       MANUAL   rear wheel drive              2.0   \n",
              "2            6.0       MANUAL   rear wheel drive              2.0   \n",
              "3            6.0       MANUAL   rear wheel drive              2.0   \n",
              "4            6.0       MANUAL   rear wheel drive              2.0   \n",
              "...          ...          ...                ...              ...   \n",
              "11909        6.0    AUTOMATIC    all wheel drive              4.0   \n",
              "11910        6.0    AUTOMATIC    all wheel drive              4.0   \n",
              "11911        6.0    AUTOMATIC    all wheel drive              4.0   \n",
              "11912        6.0    AUTOMATIC    all wheel drive              4.0   \n",
              "11913        6.0    AUTOMATIC  front wheel drive              4.0   \n",
              "\n",
              "      Vehicle Size  Vehicle Style  MPG-H  MPG-C  Popularity  Price  \n",
              "0          Compact          Coupe     26     19        3916  46135  \n",
              "1          Compact    Convertible     28     19        3916  40650  \n",
              "2          Compact          Coupe     28     20        3916  36350  \n",
              "3          Compact          Coupe     28     18        3916  29450  \n",
              "4          Compact    Convertible     28     18        3916  34500  \n",
              "...            ...            ...    ...    ...         ...    ...  \n",
              "11909      Midsize  4dr Hatchback     23     16         204  46120  \n",
              "11910      Midsize  4dr Hatchback     23     16         204  56670  \n",
              "11911      Midsize  4dr Hatchback     23     16         204  50620  \n",
              "11912      Midsize  4dr Hatchback     23     16         204  50920  \n",
              "11913      Midsize          Sedan     26     17          61  28995  \n",
              "\n",
              "[11914 rows x 15 columns]"
            ]
          },
          "execution_count": 15,
          "metadata": {},
          "output_type": "execute_result"
        }
      ]
    },
    {
      "cell_type": "code",
      "metadata": {
        "execution": {
          "iopub.execute_input": "2020-09-16T12:13:49.070569Z",
          "iopub.status.busy": "2020-09-16T12:13:49.069874Z",
          "iopub.status.idle": "2020-09-16T12:13:49.090976Z",
          "shell.execute_reply": "2020-09-16T12:13:49.090170Z"
        },
        "papermill": {
          "duration": 0.086728,
          "end_time": "2020-09-16T12:13:49.091109",
          "exception": false,
          "start_time": "2020-09-16T12:13:49.004381",
          "status": "completed"
        },
        "tags": [],
        "id": "jB3pnnuCzy6R",
        "outputId": "b8c400e0-c9a9-41ee-9931-fd5f9f3e34ff"
      },
      "source": [
        "df.duplicated().sum()\n",
        "#checking for any duplicates in the data"
      ],
      "execution_count": null,
      "outputs": [
        {
          "data": {
            "text/plain": [
              "720"
            ]
          },
          "execution_count": 16,
          "metadata": {},
          "output_type": "execute_result"
        }
      ]
    },
    {
      "cell_type": "code",
      "metadata": {
        "execution": {
          "iopub.execute_input": "2020-09-16T12:13:49.211164Z",
          "iopub.status.busy": "2020-09-16T12:13:49.210141Z",
          "iopub.status.idle": "2020-09-16T12:13:49.229458Z",
          "shell.execute_reply": "2020-09-16T12:13:49.228842Z"
        },
        "papermill": {
          "duration": 0.080278,
          "end_time": "2020-09-16T12:13:49.229579",
          "exception": false,
          "start_time": "2020-09-16T12:13:49.149301",
          "status": "completed"
        },
        "tags": [],
        "id": "u01pbgu-zy6S"
      },
      "source": [
        "df.drop_duplicates(keep=False,inplace=True)\n",
        "#removing the duplicates in the data"
      ],
      "execution_count": null,
      "outputs": []
    },
    {
      "cell_type": "code",
      "metadata": {
        "execution": {
          "iopub.execute_input": "2020-09-16T12:13:49.349563Z",
          "iopub.status.busy": "2020-09-16T12:13:49.348575Z",
          "iopub.status.idle": "2020-09-16T12:13:49.378642Z",
          "shell.execute_reply": "2020-09-16T12:13:49.377985Z"
        },
        "papermill": {
          "duration": 0.091551,
          "end_time": "2020-09-16T12:13:49.378754",
          "exception": false,
          "start_time": "2020-09-16T12:13:49.287203",
          "status": "completed"
        },
        "tags": [],
        "id": "bvE6yqUhzy6S",
        "outputId": "08340008-9369-47ef-9bd2-8e667594c0a6"
      },
      "source": [
        "df"
      ],
      "execution_count": null,
      "outputs": [
        {
          "data": {
            "text/html": [
              "<div>\n",
              "<style scoped>\n",
              "    .dataframe tbody tr th:only-of-type {\n",
              "        vertical-align: middle;\n",
              "    }\n",
              "\n",
              "    .dataframe tbody tr th {\n",
              "        vertical-align: top;\n",
              "    }\n",
              "\n",
              "    .dataframe thead th {\n",
              "        text-align: right;\n",
              "    }\n",
              "</style>\n",
              "<table border=\"1\" class=\"dataframe\">\n",
              "  <thead>\n",
              "    <tr style=\"text-align: right;\">\n",
              "      <th></th>\n",
              "      <th>Make</th>\n",
              "      <th>Model</th>\n",
              "      <th>Year</th>\n",
              "      <th>Engine Fuel Type</th>\n",
              "      <th>HP</th>\n",
              "      <th>Cylinders</th>\n",
              "      <th>Transmission</th>\n",
              "      <th>Drive Mode</th>\n",
              "      <th>Number of Doors</th>\n",
              "      <th>Vehicle Size</th>\n",
              "      <th>Vehicle Style</th>\n",
              "      <th>MPG-H</th>\n",
              "      <th>MPG-C</th>\n",
              "      <th>Popularity</th>\n",
              "      <th>Price</th>\n",
              "    </tr>\n",
              "  </thead>\n",
              "  <tbody>\n",
              "    <tr>\n",
              "      <th>0</th>\n",
              "      <td>BMW</td>\n",
              "      <td>1 Series M</td>\n",
              "      <td>2011</td>\n",
              "      <td>premium unleaded (required)</td>\n",
              "      <td>335.0</td>\n",
              "      <td>6.0</td>\n",
              "      <td>MANUAL</td>\n",
              "      <td>rear wheel drive</td>\n",
              "      <td>2.0</td>\n",
              "      <td>Compact</td>\n",
              "      <td>Coupe</td>\n",
              "      <td>26</td>\n",
              "      <td>19</td>\n",
              "      <td>3916</td>\n",
              "      <td>46135</td>\n",
              "    </tr>\n",
              "    <tr>\n",
              "      <th>1</th>\n",
              "      <td>BMW</td>\n",
              "      <td>1 Series</td>\n",
              "      <td>2011</td>\n",
              "      <td>premium unleaded (required)</td>\n",
              "      <td>300.0</td>\n",
              "      <td>6.0</td>\n",
              "      <td>MANUAL</td>\n",
              "      <td>rear wheel drive</td>\n",
              "      <td>2.0</td>\n",
              "      <td>Compact</td>\n",
              "      <td>Convertible</td>\n",
              "      <td>28</td>\n",
              "      <td>19</td>\n",
              "      <td>3916</td>\n",
              "      <td>40650</td>\n",
              "    </tr>\n",
              "    <tr>\n",
              "      <th>2</th>\n",
              "      <td>BMW</td>\n",
              "      <td>1 Series</td>\n",
              "      <td>2011</td>\n",
              "      <td>premium unleaded (required)</td>\n",
              "      <td>300.0</td>\n",
              "      <td>6.0</td>\n",
              "      <td>MANUAL</td>\n",
              "      <td>rear wheel drive</td>\n",
              "      <td>2.0</td>\n",
              "      <td>Compact</td>\n",
              "      <td>Coupe</td>\n",
              "      <td>28</td>\n",
              "      <td>20</td>\n",
              "      <td>3916</td>\n",
              "      <td>36350</td>\n",
              "    </tr>\n",
              "    <tr>\n",
              "      <th>3</th>\n",
              "      <td>BMW</td>\n",
              "      <td>1 Series</td>\n",
              "      <td>2011</td>\n",
              "      <td>premium unleaded (required)</td>\n",
              "      <td>230.0</td>\n",
              "      <td>6.0</td>\n",
              "      <td>MANUAL</td>\n",
              "      <td>rear wheel drive</td>\n",
              "      <td>2.0</td>\n",
              "      <td>Compact</td>\n",
              "      <td>Coupe</td>\n",
              "      <td>28</td>\n",
              "      <td>18</td>\n",
              "      <td>3916</td>\n",
              "      <td>29450</td>\n",
              "    </tr>\n",
              "    <tr>\n",
              "      <th>4</th>\n",
              "      <td>BMW</td>\n",
              "      <td>1 Series</td>\n",
              "      <td>2011</td>\n",
              "      <td>premium unleaded (required)</td>\n",
              "      <td>230.0</td>\n",
              "      <td>6.0</td>\n",
              "      <td>MANUAL</td>\n",
              "      <td>rear wheel drive</td>\n",
              "      <td>2.0</td>\n",
              "      <td>Compact</td>\n",
              "      <td>Convertible</td>\n",
              "      <td>28</td>\n",
              "      <td>18</td>\n",
              "      <td>3916</td>\n",
              "      <td>34500</td>\n",
              "    </tr>\n",
              "    <tr>\n",
              "      <th>...</th>\n",
              "      <td>...</td>\n",
              "      <td>...</td>\n",
              "      <td>...</td>\n",
              "      <td>...</td>\n",
              "      <td>...</td>\n",
              "      <td>...</td>\n",
              "      <td>...</td>\n",
              "      <td>...</td>\n",
              "      <td>...</td>\n",
              "      <td>...</td>\n",
              "      <td>...</td>\n",
              "      <td>...</td>\n",
              "      <td>...</td>\n",
              "      <td>...</td>\n",
              "      <td>...</td>\n",
              "    </tr>\n",
              "    <tr>\n",
              "      <th>11909</th>\n",
              "      <td>Acura</td>\n",
              "      <td>ZDX</td>\n",
              "      <td>2012</td>\n",
              "      <td>premium unleaded (required)</td>\n",
              "      <td>300.0</td>\n",
              "      <td>6.0</td>\n",
              "      <td>AUTOMATIC</td>\n",
              "      <td>all wheel drive</td>\n",
              "      <td>4.0</td>\n",
              "      <td>Midsize</td>\n",
              "      <td>4dr Hatchback</td>\n",
              "      <td>23</td>\n",
              "      <td>16</td>\n",
              "      <td>204</td>\n",
              "      <td>46120</td>\n",
              "    </tr>\n",
              "    <tr>\n",
              "      <th>11910</th>\n",
              "      <td>Acura</td>\n",
              "      <td>ZDX</td>\n",
              "      <td>2012</td>\n",
              "      <td>premium unleaded (required)</td>\n",
              "      <td>300.0</td>\n",
              "      <td>6.0</td>\n",
              "      <td>AUTOMATIC</td>\n",
              "      <td>all wheel drive</td>\n",
              "      <td>4.0</td>\n",
              "      <td>Midsize</td>\n",
              "      <td>4dr Hatchback</td>\n",
              "      <td>23</td>\n",
              "      <td>16</td>\n",
              "      <td>204</td>\n",
              "      <td>56670</td>\n",
              "    </tr>\n",
              "    <tr>\n",
              "      <th>11911</th>\n",
              "      <td>Acura</td>\n",
              "      <td>ZDX</td>\n",
              "      <td>2012</td>\n",
              "      <td>premium unleaded (required)</td>\n",
              "      <td>300.0</td>\n",
              "      <td>6.0</td>\n",
              "      <td>AUTOMATIC</td>\n",
              "      <td>all wheel drive</td>\n",
              "      <td>4.0</td>\n",
              "      <td>Midsize</td>\n",
              "      <td>4dr Hatchback</td>\n",
              "      <td>23</td>\n",
              "      <td>16</td>\n",
              "      <td>204</td>\n",
              "      <td>50620</td>\n",
              "    </tr>\n",
              "    <tr>\n",
              "      <th>11912</th>\n",
              "      <td>Acura</td>\n",
              "      <td>ZDX</td>\n",
              "      <td>2013</td>\n",
              "      <td>premium unleaded (recommended)</td>\n",
              "      <td>300.0</td>\n",
              "      <td>6.0</td>\n",
              "      <td>AUTOMATIC</td>\n",
              "      <td>all wheel drive</td>\n",
              "      <td>4.0</td>\n",
              "      <td>Midsize</td>\n",
              "      <td>4dr Hatchback</td>\n",
              "      <td>23</td>\n",
              "      <td>16</td>\n",
              "      <td>204</td>\n",
              "      <td>50920</td>\n",
              "    </tr>\n",
              "    <tr>\n",
              "      <th>11913</th>\n",
              "      <td>Lincoln</td>\n",
              "      <td>Zephyr</td>\n",
              "      <td>2006</td>\n",
              "      <td>regular unleaded</td>\n",
              "      <td>221.0</td>\n",
              "      <td>6.0</td>\n",
              "      <td>AUTOMATIC</td>\n",
              "      <td>front wheel drive</td>\n",
              "      <td>4.0</td>\n",
              "      <td>Midsize</td>\n",
              "      <td>Sedan</td>\n",
              "      <td>26</td>\n",
              "      <td>17</td>\n",
              "      <td>61</td>\n",
              "      <td>28995</td>\n",
              "    </tr>\n",
              "  </tbody>\n",
              "</table>\n",
              "<p>10573 rows × 15 columns</p>\n",
              "</div>"
            ],
            "text/plain": [
              "          Make       Model  Year                Engine Fuel Type     HP  \\\n",
              "0          BMW  1 Series M  2011     premium unleaded (required)  335.0   \n",
              "1          BMW    1 Series  2011     premium unleaded (required)  300.0   \n",
              "2          BMW    1 Series  2011     premium unleaded (required)  300.0   \n",
              "3          BMW    1 Series  2011     premium unleaded (required)  230.0   \n",
              "4          BMW    1 Series  2011     premium unleaded (required)  230.0   \n",
              "...        ...         ...   ...                             ...    ...   \n",
              "11909    Acura         ZDX  2012     premium unleaded (required)  300.0   \n",
              "11910    Acura         ZDX  2012     premium unleaded (required)  300.0   \n",
              "11911    Acura         ZDX  2012     premium unleaded (required)  300.0   \n",
              "11912    Acura         ZDX  2013  premium unleaded (recommended)  300.0   \n",
              "11913  Lincoln      Zephyr  2006                regular unleaded  221.0   \n",
              "\n",
              "       Cylinders Transmission         Drive Mode  Number of Doors  \\\n",
              "0            6.0       MANUAL   rear wheel drive              2.0   \n",
              "1            6.0       MANUAL   rear wheel drive              2.0   \n",
              "2            6.0       MANUAL   rear wheel drive              2.0   \n",
              "3            6.0       MANUAL   rear wheel drive              2.0   \n",
              "4            6.0       MANUAL   rear wheel drive              2.0   \n",
              "...          ...          ...                ...              ...   \n",
              "11909        6.0    AUTOMATIC    all wheel drive              4.0   \n",
              "11910        6.0    AUTOMATIC    all wheel drive              4.0   \n",
              "11911        6.0    AUTOMATIC    all wheel drive              4.0   \n",
              "11912        6.0    AUTOMATIC    all wheel drive              4.0   \n",
              "11913        6.0    AUTOMATIC  front wheel drive              4.0   \n",
              "\n",
              "      Vehicle Size  Vehicle Style  MPG-H  MPG-C  Popularity  Price  \n",
              "0          Compact          Coupe     26     19        3916  46135  \n",
              "1          Compact    Convertible     28     19        3916  40650  \n",
              "2          Compact          Coupe     28     20        3916  36350  \n",
              "3          Compact          Coupe     28     18        3916  29450  \n",
              "4          Compact    Convertible     28     18        3916  34500  \n",
              "...            ...            ...    ...    ...         ...    ...  \n",
              "11909      Midsize  4dr Hatchback     23     16         204  46120  \n",
              "11910      Midsize  4dr Hatchback     23     16         204  56670  \n",
              "11911      Midsize  4dr Hatchback     23     16         204  50620  \n",
              "11912      Midsize  4dr Hatchback     23     16         204  50920  \n",
              "11913      Midsize          Sedan     26     17          61  28995  \n",
              "\n",
              "[10573 rows x 15 columns]"
            ]
          },
          "execution_count": 18,
          "metadata": {},
          "output_type": "execute_result"
        }
      ]
    },
    {
      "cell_type": "code",
      "metadata": {
        "execution": {
          "iopub.execute_input": "2020-09-16T12:13:49.510467Z",
          "iopub.status.busy": "2020-09-16T12:13:49.509427Z",
          "iopub.status.idle": "2020-09-16T12:13:49.517914Z",
          "shell.execute_reply": "2020-09-16T12:13:49.517252Z"
        },
        "papermill": {
          "duration": 0.080229,
          "end_time": "2020-09-16T12:13:49.518026",
          "exception": false,
          "start_time": "2020-09-16T12:13:49.437797",
          "status": "completed"
        },
        "tags": [],
        "id": "DJ3lTXRezy6c",
        "outputId": "56948cd3-cc7a-457f-98ff-481cd4a53309"
      },
      "source": [
        "df.isnull().sum()\n",
        "#checking for any null values in the data"
      ],
      "execution_count": null,
      "outputs": [
        {
          "data": {
            "text/plain": [
              "Make                 0\n",
              "Model                0\n",
              "Year                 0\n",
              "Engine Fuel Type     3\n",
              "HP                  69\n",
              "Cylinders           30\n",
              "Transmission         0\n",
              "Drive Mode           0\n",
              "Number of Doors      6\n",
              "Vehicle Size         0\n",
              "Vehicle Style        0\n",
              "MPG-H                0\n",
              "MPG-C                0\n",
              "Popularity           0\n",
              "Price                0\n",
              "dtype: int64"
            ]
          },
          "execution_count": 19,
          "metadata": {},
          "output_type": "execute_result"
        }
      ]
    },
    {
      "cell_type": "code",
      "metadata": {
        "execution": {
          "iopub.execute_input": "2020-09-16T12:13:49.650141Z",
          "iopub.status.busy": "2020-09-16T12:13:49.649051Z",
          "iopub.status.idle": "2020-09-16T12:13:49.657217Z",
          "shell.execute_reply": "2020-09-16T12:13:49.657768Z"
        },
        "papermill": {
          "duration": 0.080482,
          "end_time": "2020-09-16T12:13:49.657925",
          "exception": false,
          "start_time": "2020-09-16T12:13:49.577443",
          "status": "completed"
        },
        "tags": [],
        "id": "ugT4mTu-zy6d"
      },
      "source": [
        "df.dropna(inplace=True,axis=0)\n",
        "#removing the null values in the data"
      ],
      "execution_count": null,
      "outputs": []
    },
    {
      "cell_type": "code",
      "metadata": {
        "execution": {
          "iopub.execute_input": "2020-09-16T12:13:49.791512Z",
          "iopub.status.busy": "2020-09-16T12:13:49.790406Z",
          "iopub.status.idle": "2020-09-16T12:13:49.796626Z",
          "shell.execute_reply": "2020-09-16T12:13:49.797244Z"
        },
        "papermill": {
          "duration": 0.08032,
          "end_time": "2020-09-16T12:13:49.797401",
          "exception": false,
          "start_time": "2020-09-16T12:13:49.717081",
          "status": "completed"
        },
        "tags": [],
        "id": "cBGRuML7zy6e",
        "outputId": "cf4fec84-235c-4578-e8c1-45aa3aadd34a"
      },
      "source": [
        "df.isnull().sum()\n",
        "#verfying for any null values"
      ],
      "execution_count": null,
      "outputs": [
        {
          "data": {
            "text/plain": [
              "Make                0\n",
              "Model               0\n",
              "Year                0\n",
              "Engine Fuel Type    0\n",
              "HP                  0\n",
              "Cylinders           0\n",
              "Transmission        0\n",
              "Drive Mode          0\n",
              "Number of Doors     0\n",
              "Vehicle Size        0\n",
              "Vehicle Style       0\n",
              "MPG-H               0\n",
              "MPG-C               0\n",
              "Popularity          0\n",
              "Price               0\n",
              "dtype: int64"
            ]
          },
          "execution_count": 21,
          "metadata": {},
          "output_type": "execute_result"
        }
      ]
    },
    {
      "cell_type": "code",
      "metadata": {
        "execution": {
          "iopub.execute_input": "2020-09-16T12:14:00.209324Z",
          "iopub.status.busy": "2020-09-16T12:14:00.206877Z",
          "iopub.status.idle": "2020-09-16T12:14:00.233245Z",
          "shell.execute_reply": "2020-09-16T12:14:00.232259Z"
        },
        "papermill": {
          "duration": 0.124701,
          "end_time": "2020-09-16T12:14:00.233616",
          "exception": false,
          "start_time": "2020-09-16T12:14:00.108915",
          "status": "completed"
        },
        "tags": [],
        "id": "pn4529Kvzy7D",
        "outputId": "2abaa3bb-3fe1-4acb-a9dc-04b3a12902d2"
      },
      "source": [
        "# performing label encoding to the categorical columns\n",
        "columns_to_convert=['Make','Model','Engine Fuel Type','Transmission','Drive Mode','Vehicle Size','Vehicle Style','Price Range']\n",
        "df[columns_to_convert] = df[columns_to_convert].astype('category')"
      ],
      "execution_count": null,
      "outputs": [
        {
          "name": "stderr",
          "output_type": "stream",
          "text": [
            "/opt/conda/lib/python3.7/site-packages/pandas/core/frame.py:3065: SettingWithCopyWarning:\n",
            "\n",
            "\n",
            "A value is trying to be set on a copy of a slice from a DataFrame.\n",
            "Try using .loc[row_indexer,col_indexer] = value instead\n",
            "\n",
            "See the caveats in the documentation: https://pandas.pydata.org/pandas-docs/stable/user_guide/indexing.html#returning-a-view-versus-a-copy\n",
            "\n"
          ]
        }
      ]
    },
    {
      "cell_type": "code",
      "metadata": {
        "execution": {
          "iopub.execute_input": "2020-09-16T12:14:00.425798Z",
          "iopub.status.busy": "2020-09-16T12:14:00.424842Z",
          "iopub.status.idle": "2020-09-16T12:14:00.428701Z",
          "shell.execute_reply": "2020-09-16T12:14:00.429284Z"
        },
        "papermill": {
          "duration": 0.103142,
          "end_time": "2020-09-16T12:14:00.429435",
          "exception": false,
          "start_time": "2020-09-16T12:14:00.326293",
          "status": "completed"
        },
        "tags": [],
        "id": "4ce2GuD7zy7E",
        "outputId": "181d1c12-33ae-4e7f-e10a-f2bd5cbbccad"
      },
      "source": [
        "df.dtypes"
      ],
      "execution_count": null,
      "outputs": [
        {
          "data": {
            "text/plain": [
              "Make                category\n",
              "Model               category\n",
              "Year                   int64\n",
              "Engine Fuel Type    category\n",
              "HP                   float64\n",
              "Cylinders            float64\n",
              "Transmission        category\n",
              "Drive Mode          category\n",
              "Number of Doors      float64\n",
              "Vehicle Size        category\n",
              "Vehicle Style       category\n",
              "MPG-H                  int64\n",
              "MPG-C                  int64\n",
              "Popularity             int64\n",
              "Price                  int64\n",
              "Price Range         category\n",
              "dtype: object"
            ]
          },
          "execution_count": 49,
          "metadata": {},
          "output_type": "execute_result"
        }
      ]
    },
    {
      "cell_type": "code",
      "metadata": {
        "execution": {
          "iopub.execute_input": "2020-09-16T12:14:00.620330Z",
          "iopub.status.busy": "2020-09-16T12:14:00.619650Z",
          "iopub.status.idle": "2020-09-16T12:14:00.716079Z",
          "shell.execute_reply": "2020-09-16T12:14:00.715429Z"
        },
        "papermill": {
          "duration": 0.192503,
          "end_time": "2020-09-16T12:14:00.716196",
          "exception": false,
          "start_time": "2020-09-16T12:14:00.523693",
          "status": "completed"
        },
        "tags": [],
        "id": "5v14f_Wbzy7F",
        "outputId": "1c307c97-bd0f-487f-aa93-1b20bb08a0a4"
      },
      "source": [
        "from sklearn import preprocessing\n",
        "  \n",
        "# label_encoder object knows how to understand word labels.\n",
        "label_encoder = preprocessing.LabelEncoder()\n",
        "  \n",
        "# Encode labels in column 'species'.\n",
        "for col in ['Make','Model','Engine Fuel Type','Transmission','Drive Mode','Vehicle Size','Vehicle Style','Price Range']: df[col] = label_encoder.fit_transform(df[col])"
      ],
      "execution_count": null,
      "outputs": [
        {
          "name": "stderr",
          "output_type": "stream",
          "text": [
            "/opt/conda/lib/python3.7/site-packages/ipykernel_launcher.py:7: SettingWithCopyWarning:\n",
            "\n",
            "\n",
            "A value is trying to be set on a copy of a slice from a DataFrame.\n",
            "Try using .loc[row_indexer,col_indexer] = value instead\n",
            "\n",
            "See the caveats in the documentation: https://pandas.pydata.org/pandas-docs/stable/user_guide/indexing.html#returning-a-view-versus-a-copy\n",
            "\n"
          ]
        }
      ]
    },
    {
      "cell_type": "code",
      "metadata": {
        "execution": {
          "iopub.execute_input": "2020-09-16T12:14:00.915751Z",
          "iopub.status.busy": "2020-09-16T12:14:00.914741Z",
          "iopub.status.idle": "2020-09-16T12:14:00.920064Z",
          "shell.execute_reply": "2020-09-16T12:14:00.920544Z"
        },
        "papermill": {
          "duration": 0.113058,
          "end_time": "2020-09-16T12:14:00.920694",
          "exception": false,
          "start_time": "2020-09-16T12:14:00.807636",
          "status": "completed"
        },
        "tags": [],
        "id": "tEzyDdnazy7F",
        "outputId": "70da2c72-b308-4080-abc1-a43e4161d9c6"
      },
      "source": [
        "df.head()"
      ],
      "execution_count": null,
      "outputs": [
        {
          "data": {
            "text/html": [
              "<div>\n",
              "<style scoped>\n",
              "    .dataframe tbody tr th:only-of-type {\n",
              "        vertical-align: middle;\n",
              "    }\n",
              "\n",
              "    .dataframe tbody tr th {\n",
              "        vertical-align: top;\n",
              "    }\n",
              "\n",
              "    .dataframe thead th {\n",
              "        text-align: right;\n",
              "    }\n",
              "</style>\n",
              "<table border=\"1\" class=\"dataframe\">\n",
              "  <thead>\n",
              "    <tr style=\"text-align: right;\">\n",
              "      <th></th>\n",
              "      <th>Make</th>\n",
              "      <th>Model</th>\n",
              "      <th>Year</th>\n",
              "      <th>Engine Fuel Type</th>\n",
              "      <th>HP</th>\n",
              "      <th>Cylinders</th>\n",
              "      <th>Transmission</th>\n",
              "      <th>Drive Mode</th>\n",
              "      <th>Number of Doors</th>\n",
              "      <th>Vehicle Size</th>\n",
              "      <th>Vehicle Style</th>\n",
              "      <th>MPG-H</th>\n",
              "      <th>MPG-C</th>\n",
              "      <th>Popularity</th>\n",
              "      <th>Price</th>\n",
              "      <th>Price Range</th>\n",
              "    </tr>\n",
              "  </thead>\n",
              "  <tbody>\n",
              "    <tr>\n",
              "      <th>0</th>\n",
              "      <td>3</td>\n",
              "      <td>1</td>\n",
              "      <td>2011</td>\n",
              "      <td>6</td>\n",
              "      <td>335.0</td>\n",
              "      <td>6.0</td>\n",
              "      <td>2</td>\n",
              "      <td>3</td>\n",
              "      <td>2.0</td>\n",
              "      <td>0</td>\n",
              "      <td>8</td>\n",
              "      <td>26</td>\n",
              "      <td>19</td>\n",
              "      <td>3916</td>\n",
              "      <td>46135</td>\n",
              "      <td>1</td>\n",
              "    </tr>\n",
              "    <tr>\n",
              "      <th>1</th>\n",
              "      <td>3</td>\n",
              "      <td>0</td>\n",
              "      <td>2011</td>\n",
              "      <td>6</td>\n",
              "      <td>300.0</td>\n",
              "      <td>6.0</td>\n",
              "      <td>2</td>\n",
              "      <td>3</td>\n",
              "      <td>2.0</td>\n",
              "      <td>0</td>\n",
              "      <td>6</td>\n",
              "      <td>28</td>\n",
              "      <td>19</td>\n",
              "      <td>3916</td>\n",
              "      <td>40650</td>\n",
              "      <td>1</td>\n",
              "    </tr>\n",
              "    <tr>\n",
              "      <th>2</th>\n",
              "      <td>3</td>\n",
              "      <td>0</td>\n",
              "      <td>2011</td>\n",
              "      <td>6</td>\n",
              "      <td>300.0</td>\n",
              "      <td>6.0</td>\n",
              "      <td>2</td>\n",
              "      <td>3</td>\n",
              "      <td>2.0</td>\n",
              "      <td>0</td>\n",
              "      <td>8</td>\n",
              "      <td>28</td>\n",
              "      <td>20</td>\n",
              "      <td>3916</td>\n",
              "      <td>36350</td>\n",
              "      <td>1</td>\n",
              "    </tr>\n",
              "    <tr>\n",
              "      <th>3</th>\n",
              "      <td>3</td>\n",
              "      <td>0</td>\n",
              "      <td>2011</td>\n",
              "      <td>6</td>\n",
              "      <td>230.0</td>\n",
              "      <td>6.0</td>\n",
              "      <td>2</td>\n",
              "      <td>3</td>\n",
              "      <td>2.0</td>\n",
              "      <td>0</td>\n",
              "      <td>8</td>\n",
              "      <td>28</td>\n",
              "      <td>18</td>\n",
              "      <td>3916</td>\n",
              "      <td>29450</td>\n",
              "      <td>1</td>\n",
              "    </tr>\n",
              "    <tr>\n",
              "      <th>4</th>\n",
              "      <td>3</td>\n",
              "      <td>0</td>\n",
              "      <td>2011</td>\n",
              "      <td>6</td>\n",
              "      <td>230.0</td>\n",
              "      <td>6.0</td>\n",
              "      <td>2</td>\n",
              "      <td>3</td>\n",
              "      <td>2.0</td>\n",
              "      <td>0</td>\n",
              "      <td>6</td>\n",
              "      <td>28</td>\n",
              "      <td>18</td>\n",
              "      <td>3916</td>\n",
              "      <td>34500</td>\n",
              "      <td>1</td>\n",
              "    </tr>\n",
              "  </tbody>\n",
              "</table>\n",
              "</div>"
            ],
            "text/plain": [
              "   Make  Model  Year  Engine Fuel Type     HP  Cylinders  Transmission  \\\n",
              "0     3      1  2011                 6  335.0        6.0             2   \n",
              "1     3      0  2011                 6  300.0        6.0             2   \n",
              "2     3      0  2011                 6  300.0        6.0             2   \n",
              "3     3      0  2011                 6  230.0        6.0             2   \n",
              "4     3      0  2011                 6  230.0        6.0             2   \n",
              "\n",
              "   Drive Mode  Number of Doors  Vehicle Size  Vehicle Style  MPG-H  MPG-C  \\\n",
              "0           3              2.0             0              8     26     19   \n",
              "1           3              2.0             0              6     28     19   \n",
              "2           3              2.0             0              8     28     20   \n",
              "3           3              2.0             0              8     28     18   \n",
              "4           3              2.0             0              6     28     18   \n",
              "\n",
              "   Popularity  Price  Price Range  \n",
              "0        3916  46135            1  \n",
              "1        3916  40650            1  \n",
              "2        3916  36350            1  \n",
              "3        3916  29450            1  \n",
              "4        3916  34500            1  "
            ]
          },
          "execution_count": 51,
          "metadata": {},
          "output_type": "execute_result"
        }
      ]
    },
    {
      "cell_type": "code",
      "metadata": {
        "execution": {
          "iopub.execute_input": "2020-09-16T12:14:01.124194Z",
          "iopub.status.busy": "2020-09-16T12:14:01.123033Z",
          "iopub.status.idle": "2020-09-16T12:14:01.131588Z",
          "shell.execute_reply": "2020-09-16T12:14:01.132097Z"
        },
        "papermill": {
          "duration": 0.118735,
          "end_time": "2020-09-16T12:14:01.132340",
          "exception": false,
          "start_time": "2020-09-16T12:14:01.013605",
          "status": "completed"
        },
        "tags": [],
        "id": "uwkaKnMtzy7G",
        "outputId": "9c166c11-ae8a-422c-f317-4440ff4a141c"
      },
      "source": [
        "# splitting the dependent and independent variables\n",
        "\n",
        "x = df[['Popularity','Year','HP','Cylinders','MPG-H','MPG-C']].values\n",
        "y = df['Price'].values\n",
        "\n",
        "print(x.shape)\n",
        "print(y.shape)"
      ],
      "execution_count": null,
      "outputs": [
        {
          "name": "stdout",
          "output_type": "stream",
          "text": [
            "(8206, 6)\n",
            "(8206,)\n"
          ]
        }
      ]
    },
    {
      "cell_type": "code",
      "metadata": {
        "execution": {
          "iopub.execute_input": "2020-09-16T12:14:01.329020Z",
          "iopub.status.busy": "2020-09-16T12:14:01.328335Z",
          "iopub.status.idle": "2020-09-16T12:14:01.334269Z",
          "shell.execute_reply": "2020-09-16T12:14:01.333674Z"
        },
        "papermill": {
          "duration": 0.106363,
          "end_time": "2020-09-16T12:14:01.334422",
          "exception": false,
          "start_time": "2020-09-16T12:14:01.228059",
          "status": "completed"
        },
        "tags": [],
        "id": "piVblPRSzy7G"
      },
      "source": [
        "#normalizing the data\n",
        "from sklearn.preprocessing import StandardScaler\n",
        "sc_x=StandardScaler()\n",
        "sc_y=StandardScaler()\n",
        "\n",
        "x=sc_x.fit_transform(x)\n",
        "y=sc_y.fit_transform(y.reshape(-1,1))"
      ],
      "execution_count": null,
      "outputs": []
    },
    {
      "cell_type": "code",
      "metadata": {
        "execution": {
          "iopub.execute_input": "2020-09-16T12:14:01.727894Z",
          "iopub.status.busy": "2020-09-16T12:14:01.727022Z",
          "iopub.status.idle": "2020-09-16T12:14:01.798199Z",
          "shell.execute_reply": "2020-09-16T12:14:01.798754Z"
        },
        "papermill": {
          "duration": 0.174339,
          "end_time": "2020-09-16T12:14:01.798900",
          "exception": false,
          "start_time": "2020-09-16T12:14:01.624561",
          "status": "completed"
        },
        "tags": [],
        "id": "zf7AjV-Qzy7H",
        "outputId": "fb6ea0cb-6253-4b1e-bf35-8898b92ef7a9"
      },
      "source": [
        "# splitting the dataset into training and test sets\n",
        "\n",
        "from sklearn.model_selection import train_test_split\n",
        "\n",
        "x_train,x_test,y_train,y_test = train_test_split(x,y,test_size = 0.2,random_state = 0)\n",
        "\n",
        "print(x_train.shape)\n",
        "print(y_train.shape)\n",
        "print(x_test.shape)\n",
        "print(y_test.shape)"
      ],
      "execution_count": null,
      "outputs": [
        {
          "name": "stdout",
          "output_type": "stream",
          "text": [
            "(6564, 6)\n",
            "(6564, 1)\n",
            "(1642, 6)\n",
            "(1642, 1)\n"
          ]
        }
      ]
    },
    {
      "cell_type": "markdown",
      "metadata": {
        "papermill": {
          "duration": 0.111449,
          "end_time": "2020-09-16T12:14:12.521988",
          "exception": false,
          "start_time": "2020-09-16T12:14:12.410539",
          "status": "completed"
        },
        "tags": [],
        "id": "ZkTG9lKezy7U"
      },
      "source": [
        "#### Random Forest\n"
      ]
    },
    {
      "cell_type": "code",
      "metadata": {
        "execution": {
          "iopub.execute_input": "2020-09-16T12:14:12.752428Z",
          "iopub.status.busy": "2020-09-16T12:14:12.751714Z",
          "iopub.status.idle": "2020-09-16T12:14:17.864898Z",
          "shell.execute_reply": "2020-09-16T12:14:17.866120Z"
        },
        "papermill": {
          "duration": 5.231863,
          "end_time": "2020-09-16T12:14:17.866489",
          "exception": false,
          "start_time": "2020-09-16T12:14:12.634626",
          "status": "completed"
        },
        "tags": [],
        "id": "p4sL2S-Kzy7U",
        "outputId": "bec22d0a-260b-4749-dae8-afb224fd1771"
      },
      "source": [
        "from sklearn.ensemble import RandomForestRegressor\n",
        "\n",
        "rfc_model=RandomForestRegressor(n_estimators=300,random_state=0)\n",
        "rfc_model.fit(x_train,y_train)\n",
        "\n",
        "# calculating the accuracies\n",
        "print(\"Training Accuracy :\",rfc_model.score(x_train,y_train))\n",
        "print(\"Testing Accuracy :\",rfc_model.score(x_test,y_test))"
      ],
      "execution_count": null,
      "outputs": [
        {
          "name": "stderr",
          "output_type": "stream",
          "text": [
            "/opt/conda/lib/python3.7/site-packages/ipykernel_launcher.py:4: DataConversionWarning:\n",
            "\n",
            "A column-vector y was passed when a 1d array was expected. Please change the shape of y to (n_samples,), for example using ravel().\n",
            "\n"
          ]
        },
        {
          "name": "stdout",
          "output_type": "stream",
          "text": [
            "Training Accuracy : 0.9684961203669347\n",
            "Testing Accuracy : 0.93205726530979\n"
          ]
        }
      ]
    },
    {
      "cell_type": "code",
      "metadata": {
        "execution": {
          "iopub.execute_input": "2020-09-16T12:14:18.101305Z",
          "iopub.status.busy": "2020-09-16T12:14:18.100585Z",
          "iopub.status.idle": "2020-09-16T12:14:18.245430Z",
          "shell.execute_reply": "2020-09-16T12:14:18.244759Z"
        },
        "papermill": {
          "duration": 0.26408,
          "end_time": "2020-09-16T12:14:18.245555",
          "exception": false,
          "start_time": "2020-09-16T12:14:17.981475",
          "status": "completed"
        },
        "tags": [],
        "id": "MV_HaB0mzy7V",
        "outputId": "3ac6a7c7-36f6-4016-b0a1-2094425979c8"
      },
      "source": [
        "y_pred = rfc_model.predict(x_test)\n",
        "y_pred[0:5]"
      ],
      "execution_count": null,
      "outputs": [
        {
          "data": {
            "text/plain": [
              "array([ 0.75898373, -0.78565117, -0.13006536, -0.45206118, -0.17014005])"
            ]
          },
          "execution_count": 68,
          "metadata": {},
          "output_type": "execute_result"
        }
      ]
    },
    {
      "cell_type": "code",
      "metadata": {
        "execution": {
          "iopub.execute_input": "2020-09-16T12:14:18.486314Z",
          "iopub.status.busy": "2020-09-16T12:14:18.483985Z",
          "iopub.status.idle": "2020-09-16T12:14:18.669667Z",
          "shell.execute_reply": "2020-09-16T12:14:18.668984Z"
        },
        "papermill": {
          "duration": 0.311643,
          "end_time": "2020-09-16T12:14:18.669790",
          "exception": false,
          "start_time": "2020-09-16T12:14:18.358147",
          "status": "completed"
        },
        "tags": [],
        "id": "pIidhQOhzy7W",
        "outputId": "e04010ba-a8d0-4256-daae-cc1488ef282a"
      },
      "source": [
        "plt.scatter(y_test,y_pred)\n",
        "plt.xlabel(\"True Values\")\n",
        "plt.ylabel(\"Predicted Values\")"
      ],
      "execution_count": null,
      "outputs": [
        {
          "data": {
            "text/plain": [
              "Text(0, 0.5, 'Predicted Values')"
            ]
          },
          "execution_count": 69,
          "metadata": {},
          "output_type": "execute_result"
        },
        {
          "data": {
            "image/png": "[encoded data removed]",
            "text/plain": [
              "<Figure size 1080x648 with 1 Axes>"
            ]
          },
          "metadata": {
            "needs_background": "light"
          },
          "output_type": "display_data"
        }
      ]
    },
    {
      "cell_type": "code",
      "metadata": {
        "execution": {
          "iopub.execute_input": "2020-09-16T12:14:18.914776Z",
          "iopub.status.busy": "2020-09-16T12:14:18.913263Z",
          "iopub.status.idle": "2020-09-16T12:14:19.998659Z",
          "shell.execute_reply": "2020-09-16T12:14:19.999210Z"
        },
        "papermill": {
          "duration": 1.209919,
          "end_time": "2020-09-16T12:14:19.999381",
          "exception": false,
          "start_time": "2020-09-16T12:14:18.789462",
          "status": "completed"
        },
        "tags": [],
        "id": "sjGUMZuNzy7W",
        "outputId": "019c2c80-7bc7-479b-922b-5aba7a506fb5"
      },
      "source": [
        "sns.distplot((y_test-y_pred),bins=50)"
      ],
      "execution_count": null,
      "outputs": [
        {
          "data": {
            "text/plain": [
              "<matplotlib.axes._subplots.AxesSubplot at 0x7f7d9fd72790>"
            ]
          },
          "execution_count": 70,
          "metadata": {},
          "output_type": "execute_result"
        },
        {
          "data": {
            "image/png": "[encoded data removed]",
            "text/plain": [
              "<Figure size 1080x648 with 1 Axes>"
            ]
          },
          "metadata": {
            "needs_background": "light"
          },
          "output_type": "display_data"
        }
      ]
    },
    {
      "cell_type": "code",
      "metadata": {
        "execution": {
          "iopub.execute_input": "2020-09-16T12:14:20.249088Z",
          "iopub.status.busy": "2020-09-16T12:14:20.248018Z",
          "iopub.status.idle": "2020-09-16T12:14:20.256219Z",
          "shell.execute_reply": "2020-09-16T12:14:20.255602Z"
        },
        "papermill": {
          "duration": 0.132619,
          "end_time": "2020-09-16T12:14:20.256358",
          "exception": false,
          "start_time": "2020-09-16T12:14:20.123739",
          "status": "completed"
        },
        "tags": [],
        "id": "OpYKdjUazy7X",
        "outputId": "958fb2fc-d98b-4490-936e-727fa5042111"
      },
      "source": [
        "print(\"R2_Score : \", r2_score(y_test,y_pred))\n",
        "print(\"Mean Squared Error : \", mean_squared_error(y_test,y_pred))\n",
        "print(\"MAE : \",mean_absolute_error(y_test,y_pred))\n",
        "print(\"RSME : \",math.sqrt(mean_squared_error(y_test,y_pred)))"
      ],
      "execution_count": null,
      "outputs": [
        {
          "name": "stdout",
          "output_type": "stream",
          "text": [
            "R2_Score :  0.93205726530979\n",
            "Mean Squared Error :  0.06547749142652876\n",
            "MAE :  0.18351161620393952\n",
            "RSME :  0.25588569992582383\n"
          ]
        }
      ]
    }
  ]
}